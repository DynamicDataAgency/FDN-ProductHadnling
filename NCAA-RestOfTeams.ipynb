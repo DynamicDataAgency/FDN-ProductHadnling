{
 "cells": [
  {
   "cell_type": "code",
   "execution_count": 24,
   "metadata": {},
   "outputs": [
    {
     "name": "stderr",
     "output_type": "stream",
     "text": [
      "C:\\Users\\acer\\AppData\\Local\\Temp\\ipykernel_9444\\1312292665.py:3: DtypeWarning: Columns (7) have mixed types. Specify dtype option on import or set low_memory=False.\n",
      "  df = pd.read_csv('outputCollege.csv')\n"
     ]
    },
    {
     "data": {
      "text/plain": [
       "(379047, 70)"
      ]
     },
     "execution_count": 24,
     "metadata": {},
     "output_type": "execute_result"
    }
   ],
   "source": [
    "import pandas as pd\n",
    "\n",
    "df = pd.read_csv('outputCollege.csv')\n",
    "df.shape"
   ]
  },
  {
   "cell_type": "code",
   "execution_count": 30,
   "metadata": {},
   "outputs": [
    {
     "data": {
      "text/plain": [
       "(44,)"
      ]
     },
     "execution_count": 30,
     "metadata": {},
     "output_type": "execute_result"
    }
   ],
   "source": [
    "teams = [\n",
    "    \"Texas A&M Aggies\",\n",
    "    \"Arkansas Razorbacks\",\n",
    "    \"Auburn Tigers\",\n",
    "    \"Baylor Bears\",\n",
    "    \"Cal Bears\",\n",
    "    \"Clemson Tigers\",\n",
    "    \"Colorado Buffaloes\",\n",
    "    \"Florida Gators\",\n",
    "    \"Florida State Seminoles\",\n",
    "    \"Georgia Bulldogs\",\n",
    "    \"Indiana Hoosiers\",\n",
    "    \"Iowa Hawkeyes\",\n",
    "    \"Iowa State Cyclones\",\n",
    "    \"Kentucky Wildcats\",\n",
    "    \"Kansas State Wildcats\",\n",
    "    \"LSU Tigers\",\n",
    "    \"Maryland Terrapins\",\n",
    "    \"Miami Hurricanes\",\n",
    "    \"Michigan State Spartans\",\n",
    "    \"Minnesota Golden Gophers\",\n",
    "    \"Mississippi State Bulldogs\",\n",
    "    \"Missouri Tigers\",\n",
    "    \"NC State Wolfpack\",\n",
    "    \"Northwestern Wildcats\",\n",
    "    \"Oklahoma Sooners\",\n",
    "    \"Oklahoma State Cowboys\",\n",
    "    \"Ole Miss Rebels\",\n",
    "    \"Oregon Ducks\",\n",
    "    \"Pitt Panthers\",\n",
    "    \"South Carolina Gamecocks\",\n",
    "    \"Stanford Cardinal\",\n",
    "    \"Arizona State Sun Devils\",\n",
    "    \"Syracuse Orange\",\n",
    "    \"Tennessee Volunteers\",\n",
    "    \"Texas Longhorns\",\n",
    "    \"UCLA Bruins\",\n",
    "    \"North Carolina Tar Heels\",\n",
    "    \"USC Trojans\",\n",
    "    \"Utah Utes\",\n",
    "    \"Virginia Tech Hokies\",\n",
    "    \"Virginia Cavaliers\",\n",
    "    \"Washington Huskies\",\n",
    "    \"Wisconsin Badgers\",\n",
    "    \"West Virginia Mountaineers\"\n",
    "]\n",
    "\n",
    "\n",
    "# include where Text3 contains any of the teams\n",
    "\n",
    "df_filtered_teams = df[df['Text3'].str.contains('|'.join(teams))]\n",
    "\n",
    "\n",
    "df_filtered_teams['Text3'].value_counts()\n",
    "df_filtered_teams['Text3'].value_counts().shape\n",
    "\n",
    "# which values in temas where not matched and how many times\n",
    "# teams_not_matched = [team for team in teams if team not in df_filtered_teams['Text3'].value_counts().index]\n",
    "# print(teams_not_matched)\n",
    "\n",
    "\n"
   ]
  },
  {
   "cell_type": "code",
   "execution_count": 29,
   "metadata": {},
   "outputs": [
    {
     "data": {
      "text/plain": [
       "(133313, 71)"
      ]
     },
     "execution_count": 29,
     "metadata": {},
     "output_type": "execute_result"
    }
   ],
   "source": [
    "df_filtered_teams.shape"
   ]
  },
  {
   "cell_type": "markdown",
   "metadata": {},
   "source": [
    "##Processing for Shopify"
   ]
  },
  {
   "cell_type": "code",
   "execution_count": 33,
   "metadata": {},
   "outputs": [],
   "source": [
    "\n",
    "\n",
    "\n",
    "\n",
    "\n",
    "# Count the occurrences of each value in the 'Text3' column of the 'nf' dataframe\n",
    "# text3_counts = nf['Text3'].value_counts()\n",
    "\n",
    "# Print the top 60 values\n",
    "#  print(text3_counts.head(60))\n",
    "\n",
    "nf = df_filtered_teams.loc[:, ['Unique Merchant SKU', 'Product Name', 'Product URL', 'Image URL', 'Current Price', 'Original Price', 'Product Description', 'Gender', 'Text1', 'Text2', 'Text3','Size']]\n",
    "\n",
    "rename_dict = {\n",
    "    'Unique Merchant SKU': 'ID',\n",
    "    'Product Name': 'Title',\n",
    "    'Product URL': 'Metafield: custom.product_url [url]',\n",
    "    'Image URL': 'Image Src',\n",
    "    'Current Price': 'Variant Price',\n",
    "    'Original Price': 'Variant Compare At Price',\n",
    "    'Product Description': 'Body HTML',\n",
    "    'Gender': 'Metafield: custom.product_gender [single_line_text_field]',\n",
    "    'Text1': 'Metafield: custom.text1 [single_line_text_field]',\n",
    "    'Text2': 'Metafield: custom.text2 [single_line_text_field]',\n",
    "    'Text3': 'Tags',\n",
    "    'Size': 'Metafield: custom.sizes [single_line_text_field]'\n",
    "}\n",
    "\n",
    "nf = nf.rename(columns=rename_dict)\n",
    "\n",
    "\n",
    "\n",
    "## remove emptyspaces in Tags column between values\n",
    "nf['Tags'] = nf['Tags'].str.replace(' ', '')\n",
    "\n",
    "# Create an additional column 'Variant Inventory Tracker' with all values value 'shopify'\n",
    "nf['Variant Inventory Tracker'] = 'shopify'\n",
    "nf['Variant Inventory Policy'] = 'continue'\n",
    "nf['Variant Fulfillment Service'] = 'manual'\n",
    "nf['Variant Inventory Qty'] = '1'\n",
    "\n",
    "# edit the 'Tags' column to append ',NCAA' to each value\n",
    "nf['Tags'] = nf['Tags'].apply(lambda x: x + ',NCAA')\n"
   ]
  },
  {
   "cell_type": "code",
   "execution_count": 35,
   "metadata": {},
   "outputs": [],
   "source": [
    "#nf.head()"
   ]
  },
  {
   "cell_type": "code",
   "execution_count": 38,
   "metadata": {},
   "outputs": [
    {
     "name": "stdout",
     "output_type": "stream",
     "text": [
      "Saved chunk 1 to NCAA_rest_of_teams_Products_chunk_1.csv\n",
      "Saved chunk 2 to NCAA_rest_of_teams_Products_chunk_2.csv\n",
      "Saved chunk 3 to NCAA_rest_of_teams_Products_chunk_3.csv\n"
     ]
    }
   ],
   "source": [
    "\n",
    "# Assume 'nf' is your DataFrame\n",
    "# Example: nf = pd.read_csv('your_data.csv')\n",
    "\n",
    "# Define the chunk size\n",
    "chunk_size = 50000\n",
    "\n",
    "# Determine the number of chunks\n",
    "num_chunks = -(-len(nf) // chunk_size)  # Ceiling division\n",
    "\n",
    "# Split the DataFrame and save to CSV files\n",
    "for i in range(num_chunks):\n",
    "    start_row = i * chunk_size\n",
    "    end_row = (i + 1) * chunk_size\n",
    "    chunk_df = nf.iloc[start_row:end_row]\n",
    "    \n",
    "    # Define the file name for each chunk\n",
    "    file_name = f'NCAA_rest_of_teams_Products_chunk_{i + 1}.csv'\n",
    "    \n",
    "    # Save the chunk to a CSV file\n",
    "    chunk_df.to_csv(file_name, index=False)\n",
    "    \n",
    "    print(f'Saved chunk {i + 1} to {file_name}')\n"
   ]
  }
 ],
 "metadata": {
  "kernelspec": {
   "display_name": "myenv",
   "language": "python",
   "name": "python3"
  },
  "language_info": {
   "codemirror_mode": {
    "name": "ipython",
    "version": 3
   },
   "file_extension": ".py",
   "mimetype": "text/x-python",
   "name": "python",
   "nbconvert_exporter": "python",
   "pygments_lexer": "ipython3",
   "version": "3.12.5"
  }
 },
 "nbformat": 4,
 "nbformat_minor": 2
}
