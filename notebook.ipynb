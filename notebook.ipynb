{
 "cells": [
  {
   "cell_type": "code",
   "execution_count": 3,
   "metadata": {},
   "outputs": [
    {
     "name": "stdout",
     "output_type": "stream",
     "text": [
      "Files in the directory:\n",
      "Fanatics-Product-Catalog_CUSTOM.txt.gz\n",
      "Fanatics-Product-Catalog_IR.txt.gz\n",
      "Fanatics-Top-Products_CUSTOM.txt.gz\n",
      "Fanatics-Top-Products_IR.txt.gz\n",
      "Fanatics-UK_CUSTOM.txt.gz\n",
      "Fanatics-UK_IR.txt.gz\n",
      "Fanatics-France_CUSTOM.txt.gz\n",
      "Fanatics-France_IR.txt.gz\n",
      "Fanatics-Spain_CUSTOM.txt.gz\n",
      "Fanatics-Spain_IR.txt.gz\n",
      "Fanatics-Germany_CUSTOM.txt.gz\n",
      "Fanatics-Germany_IR.txt.gz\n",
      "Fanatics-Australia_CUSTOM.txt.gz\n",
      "Fanatics-Australia_IR.txt.gz\n",
      "Fanatics-Italy_CUSTOM.txt.gz\n",
      "Fanatics-Italy_IR.txt.gz\n",
      "Downloaded Fanatics-Product-Catalog_CUSTOM.txt.gz\n",
      "Downloaded Fanatics-Product-Catalog_IR.txt.gz\n",
      "Downloaded Fanatics-Top-Products_CUSTOM.txt.gz\n",
      "Downloaded Fanatics-Top-Products_IR.txt.gz\n",
      "Downloaded Fanatics-UK_CUSTOM.txt.gz\n",
      "Downloaded Fanatics-UK_IR.txt.gz\n",
      "Downloaded Fanatics-France_CUSTOM.txt.gz\n",
      "Downloaded Fanatics-France_IR.txt.gz\n",
      "Downloaded Fanatics-Spain_CUSTOM.txt.gz\n",
      "Downloaded Fanatics-Spain_IR.txt.gz\n",
      "Downloaded Fanatics-Germany_CUSTOM.txt.gz\n",
      "Downloaded Fanatics-Germany_IR.txt.gz\n",
      "Downloaded Fanatics-Australia_CUSTOM.txt.gz\n",
      "Downloaded Fanatics-Australia_IR.txt.gz\n",
      "Downloaded Fanatics-Italy_CUSTOM.txt.gz\n",
      "Downloaded Fanatics-Italy_IR.txt.gz\n"
     ]
    },
    {
     "data": {
      "text/plain": [
       "'221 Goodbye.'"
      ]
     },
     "execution_count": 3,
     "metadata": {},
     "output_type": "execute_result"
    }
   ],
   "source": [
    "import ftplib\n",
    "\n",
    "# FTP server details\n",
    "ftp_server = \"products.impact.com\"\n",
    "ftp_user = \"ps-ftp_5567077\"\n",
    "ftp_password = \"6r%]mobnH6\"\n",
    "ftp_directory = \"/Fanatics-(Global)/\"\n",
    "\n",
    "# Connect to the FTP server\n",
    "ftp = ftplib.FTP(ftp_server)\n",
    "ftp.login(user=ftp_user, passwd=ftp_password)\n",
    "ftp.cwd(ftp_directory)\n",
    "\n",
    "# List files in the directory\n",
    "files = ftp.nlst()\n",
    "print(\"Files in the directory:\")\n",
    "for file in files:\n",
    "    print(file)\n",
    "\n",
    "# Download each file\n",
    "for file in files:\n",
    "    local_filename = file\n",
    "    with open(local_filename, 'wb') as local_file:\n",
    "        ftp.retrbinary('RETR ' + file, local_file.write)\n",
    "        print(f\"Downloaded {file}\")\n",
    "\n",
    "# Close the connection\n",
    "ftp.quit()\n"
   ]
  },
  {
   "cell_type": "code",
   "execution_count": 7,
   "metadata": {},
   "outputs": [
    {
     "name": "stdout",
     "output_type": "stream",
     "text": [
      "Decompressed c:\\Users\\acer\\Downloads\\ftp\\Fanatics-Australia_CUSTOM.txt.gz to c:\\Users\\acer\\Downloads\\ftp\\Fanatics-Australia_CUSTOM.txt\n",
      "Decompressed c:\\Users\\acer\\Downloads\\ftp\\Fanatics-Australia_IR.txt.gz to c:\\Users\\acer\\Downloads\\ftp\\Fanatics-Australia_IR.txt\n",
      "Decompressed c:\\Users\\acer\\Downloads\\ftp\\Fanatics-France_CUSTOM.txt.gz to c:\\Users\\acer\\Downloads\\ftp\\Fanatics-France_CUSTOM.txt\n",
      "Decompressed c:\\Users\\acer\\Downloads\\ftp\\Fanatics-France_IR.txt.gz to c:\\Users\\acer\\Downloads\\ftp\\Fanatics-France_IR.txt\n",
      "Decompressed c:\\Users\\acer\\Downloads\\ftp\\Fanatics-Germany_CUSTOM.txt.gz to c:\\Users\\acer\\Downloads\\ftp\\Fanatics-Germany_CUSTOM.txt\n",
      "Decompressed c:\\Users\\acer\\Downloads\\ftp\\Fanatics-Germany_IR.txt.gz to c:\\Users\\acer\\Downloads\\ftp\\Fanatics-Germany_IR.txt\n",
      "Decompressed c:\\Users\\acer\\Downloads\\ftp\\Fanatics-Italy_CUSTOM.txt.gz to c:\\Users\\acer\\Downloads\\ftp\\Fanatics-Italy_CUSTOM.txt\n",
      "Decompressed c:\\Users\\acer\\Downloads\\ftp\\Fanatics-Italy_IR.txt.gz to c:\\Users\\acer\\Downloads\\ftp\\Fanatics-Italy_IR.txt\n",
      "Decompressed c:\\Users\\acer\\Downloads\\ftp\\Fanatics-Product-Catalog_CUSTOM.txt.gz to c:\\Users\\acer\\Downloads\\ftp\\Fanatics-Product-Catalog_CUSTOM.txt\n",
      "Decompressed c:\\Users\\acer\\Downloads\\ftp\\Fanatics-Product-Catalog_IR.txt.gz to c:\\Users\\acer\\Downloads\\ftp\\Fanatics-Product-Catalog_IR.txt\n",
      "Decompressed c:\\Users\\acer\\Downloads\\ftp\\Fanatics-Spain_CUSTOM.txt.gz to c:\\Users\\acer\\Downloads\\ftp\\Fanatics-Spain_CUSTOM.txt\n",
      "Decompressed c:\\Users\\acer\\Downloads\\ftp\\Fanatics-Spain_IR.txt.gz to c:\\Users\\acer\\Downloads\\ftp\\Fanatics-Spain_IR.txt\n",
      "Decompressed c:\\Users\\acer\\Downloads\\ftp\\Fanatics-Top-Products_CUSTOM.txt.gz to c:\\Users\\acer\\Downloads\\ftp\\Fanatics-Top-Products_CUSTOM.txt\n",
      "Decompressed c:\\Users\\acer\\Downloads\\ftp\\Fanatics-Top-Products_IR.txt.gz to c:\\Users\\acer\\Downloads\\ftp\\Fanatics-Top-Products_IR.txt\n",
      "Decompressed c:\\Users\\acer\\Downloads\\ftp\\Fanatics-UK_CUSTOM.txt.gz to c:\\Users\\acer\\Downloads\\ftp\\Fanatics-UK_CUSTOM.txt\n",
      "Decompressed c:\\Users\\acer\\Downloads\\ftp\\Fanatics-UK_IR.txt.gz to c:\\Users\\acer\\Downloads\\ftp\\Fanatics-UK_IR.txt\n"
     ]
    }
   ],
   "source": [
    "import gzip\n",
    "import shutil\n",
    "import os\n",
    "\n",
    "# Directory containing the downloaded .txt.gz files\n",
    "directory = os.getcwd()  # Replace with the path to your downloaded files\n",
    "\n",
    "# Decompress each .txt.gz file in the directory\n",
    "for filename in os.listdir(directory):\n",
    "    if filename.endswith('.txt.gz'):\n",
    "        local_gz_filename = os.path.join(directory, filename)\n",
    "        local_txt_filename = os.path.join(directory, filename[:-3])  # Remove the .gz extension\n",
    "\n",
    "        # Decompress the .txt.gz file to .txt\n",
    "        with gzip.open(local_gz_filename, 'rb') as f_in:\n",
    "            with open(local_txt_filename, 'wb') as f_out:\n",
    "                shutil.copyfileobj(f_in, f_out)\n",
    "                print(f\"Decompressed {local_gz_filename} to {local_txt_filename}\")\n"
   ]
  },
  {
   "cell_type": "code",
   "execution_count": null,
   "metadata": {},
   "outputs": [],
   "source": [
    "import gzip\n",
    "import shutil\n",
    "import os\n",
    "\n",
    "# Get the current working directory\n",
    "directory = os.getcwd()\n",
    "\n",
    "# Decompress the specific .txt.gz file\n",
    "filename = \"Fanatics-Product-Catalog_IR.txt.gz\"\n",
    "local_gz_filename = os.path.join(directory, filename)\n",
    "local_txt_filename = os.path.join(directory, filename[:-3])  # Remove the .gz extension\n",
    "\n",
    "if os.path.exists(local_gz_filename):\n",
    "    # Decompress the .txt.gz file to .txt\n",
    "    with gzip.open(local_gz_filename, 'rb') as f_in:\n",
    "        with open(local_txt_filename, 'wb') as f_out:\n",
    "            shutil.copyfileobj(f_in, f_out)\n",
    "            print(f\"Decompressed {local_gz_filename} to {local_txt_filename}\")\n",
    "else:\n",
    "    print(f\"{local_gz_filename} does not exist.\")\n"
   ]
  },
  {
   "cell_type": "code",
   "execution_count": 1,
   "metadata": {},
   "outputs": [
    {
     "name": "stderr",
     "output_type": "stream",
     "text": [
      "C:\\Users\\acer\\AppData\\Local\\Temp\\ipykernel_15572\\3564683990.py:13: DtypeWarning: Columns (9) have mixed types. Specify dtype option on import or set low_memory=False.\n",
      "  df = pd.read_csv(local_txt_filename, delimiter='\\t')\n"
     ]
    },
    {
     "name": "stdout",
     "output_type": "stream",
     "text": [
      "   Unique Merchant SKU                                       Product Name  \\\n",
      "0              2866017  Women's Florida Panthers Sterling Silver Small...   \n",
      "1              5257010  Men's Under Armour Gray Virginia Tech Hokies S...   \n",
      "2            200180351  Women's Antigua  Navy Jacksonville Jumbo Shrim...   \n",
      "3            200465364   Keyscaper  Rey Mysterio Galaxy Impact Clear Case   \n",
      "4            201060326  Women's Cutter & Buck  Gray Los Angeles Dodger...   \n",
      "\n",
      "                                         Product URL  \\\n",
      "0  https://fanatics.93n6tx.net/c/5567077/669352/9...   \n",
      "1  https://fanatics.93n6tx.net/c/5567077/669352/9...   \n",
      "2  https://fanatics.93n6tx.net/c/5567077/669352/9...   \n",
      "3  https://fanatics.93n6tx.net/c/5567077/669352/9...   \n",
      "4  https://fanatics.93n6tx.net/c/5567077/669352/9...   \n",
      "\n",
      "                                           Image URL  Current Price  \\\n",
      "0  https://feeds.frgimages.com/_pi2866000_ff_2866...          74.99   \n",
      "1  https://feeds.frgimages.com/_pi5257000_ff_5257...          39.99   \n",
      "2  https://feeds.frgimages.com/_ss5_p-200180351+u...          74.99   \n",
      "3  https://feeds.frgimages.com/_ss5_p-200465364+u...          34.99   \n",
      "4  https://feeds.frgimages.com/_ss5_p-201060326+u...         234.99   \n",
      "\n",
      "  Stock Availability Condition  EAN  \\\n",
      "0                  Y       New  NaN   \n",
      "1                  Y       New  NaN   \n",
      "2                  Y       New  NaN   \n",
      "3                  Y       New  NaN   \n",
      "4                  Y       New  NaN   \n",
      "\n",
      "                                                 UPC ISBN  ...  Numeric1  \\\n",
      "0                                       191101152788  NaN  ...       NaN   \n",
      "1  197141891403;197141891397;197141891441;1971418...  NaN  ...       NaN   \n",
      "2  197719364124;197719364094;197719364117;1977193...  NaN  ...       NaN   \n",
      "3  197281950916;197281172295;197281172028;1972811...  NaN  ...       NaN   \n",
      "4  197948909646;197948909639;197948909660;1979489...  NaN  ...       NaN   \n",
      "\n",
      "   Numeric2  Numeric3  Money1  Money2 Money3 Currency  Shipping Region Labels  \\\n",
      "0      0.39       NaN     NaN     NaN    NaN      USD              NaN    NaN   \n",
      "1      0.41       NaN     NaN     NaN    NaN      USD              NaN    NaN   \n",
      "2      0.41       NaN     NaN     NaN    NaN      USD              NaN    NaN   \n",
      "3      0.50       NaN     NaN     NaN    NaN      USD              NaN    NaN   \n",
      "4      0.40       NaN     NaN     NaN    NaN      USD              NaN    NaN   \n",
      "\n",
      "   Promotion  \n",
      "0        NaN  \n",
      "1        NaN  \n",
      "2        NaN  \n",
      "3        NaN  \n",
      "4        NaN  \n",
      "\n",
      "[5 rows x 70 columns]\n"
     ]
    }
   ],
   "source": [
    "import pandas as pd\n",
    "import os\n",
    "\n",
    "# Get the current working directory\n",
    "directory = os.getcwd()\n",
    "\n",
    "# Path to the decompressed .txt file\n",
    "local_txt_filename = os.path.join(directory, \"Fanatics-Product-Catalog_IR.txt\")\n",
    "\n",
    "# Load the decompressed .txt file into a Pandas DataFrame\n",
    "if os.path.exists(local_txt_filename):\n",
    "    # Assuming the file is tab-delimited, adjust the delimiter if necessary\n",
    "    df = pd.read_csv(local_txt_filename, delimiter='\\t')\n",
    "    print(df.head())  # Display the first 5 rows\n",
    "else:\n",
    "    print(f\"{local_txt_filename} does not exist.\")\n"
   ]
  },
  {
   "cell_type": "code",
   "execution_count": 2,
   "metadata": {},
   "outputs": [
    {
     "name": "stdout",
     "output_type": "stream",
     "text": [
      "Unique Merchant SKU\tProduct Name\tProduct URL\tImage URL\tCurrent Price\tStock Availability\tCondition\tEAN\tUPC\tISBN\tMPN\tShipping Rate\tOriginal Price\tCoupon Code\tCoupon Code Description\tManufacturer\tProduct Description\tProduct Type\tCategory\tCategory ID\tParent SKU\tParent Name\tTop Seller Rank\tEstimated Ship Date\tGender\tColor\tMaterial\tSize\tSize Unit of Measure\tAge Range\tCell Phone Plan Type\tCell Phone Service Provider\tStock Description\tProduct Launch Date\tProduct Bullet Point 1\tProduct Bullet Point 2\tProduct Bullet Point 3\tProduct Bullet Point 4\tProduct Bullet Point 5\tAlternative Image URL 1\tAlternative Image URL 2\tAlternative Image URL 3\tAlternative Image URL 4\tAlternative Image URL 5\tMobile URL\tRelated Products\tMerchandising Type\tProduct Weight\tZip Code\tShipping Weight\tWeight Unit of Measure\tFormat\tUnit Price\tBundle\tSoftware Platform\tWatch Display Type\tProductBid\tText1\tText2\tText3\tNumeric1\tNumeric2\tNumeric3\tMoney1\tMoney2\tMoney3\tCurrency\tShipping Region\tLabels\tPromotion\n",
      "2866017\tWomen's Florida Panthers Sterling Silver Small Bar Necklace\thttps://fanatics.93n6tx.net/c/5567077/669352/9663?prodsku=2866017&u=https%3A%2F%2Fwww.fanatics.com%2Fnhl%2Fflorida-panthers%2Ftailgate-and-party%2Fflorida-panthers-womens-sterling-silver-small-bar-necklace%2Fo-5717%2Bt-97534013%2Bd-0800466%2Bf-3710117%2Bz-8-4271638921&intsrc=CATF_5042\thttps://feeds.frgimages.com/_pi2866000_ff_2866017_full.jpg?_hv=2\t74.99\tY\tNew\t\t191101152788\t\t\t\t74.99\t\t\tLogoArt\tAccessorize your outfit perfectly and show off a little home team pride with this stylish Florida Panthers Sterling Silver Small Bar Necklace!\t\tNHL\t\t\t\t\t\tWomen\t\t\tNo Size\t\t\t\t\t\t\t\t\t\t\t\thttps://feeds.frgimages.com/_pi2866000_ff_2866017_full.jpg?_hv=2&w=340\t\t\t\t\t\t\t\t\t\t\t\t\t\t\t\t\t\tSports & Outdoors~Fan Shop~Jewelry~Necklaces & Pendants~Necklaces\tBeads & Jewelry~Jewelry\tFlorida Panthers\t\t0.39\t\t\t\t\tUSD\n",
      "5257010\tMen's Under Armour Gray Virginia Tech Hokies Soccer Arch Over Performance T-Shirt\thttps://fanatics.93n6tx.net/c/5567077/669352/9663?prodsku=5257010&u=https%3A%2F%2Fwww.fanatics.com%2Fcollege%2Fvirginia-tech-hokies%2Ft-shirts%2Fvirginia-tech-hokies-under-armour-soccer-arch-over-performance-t-shirt-gray%2Fo-38%2Bt-79695495%2Bd-19660246%2Bf-27523501%2Bz-9-4170102626&intsrc=CATF_5042\thttps://feeds.frgimages.com/_pi5257000_ff_5257010-f5b53c239165fb499a60_full.jpg?_hv=2\t39.99\tY\tNew\t\t197141891403;197141891397;197141891441;197141891427;197141891434;197141891410\t\t\t\t39.99\t\t\tUnder Armour\tThe Under Armour Gray Virginia Tech Hokies Soccer Arch Over Performance T-shirt is the perfect way to show your support for the Hokies. Made from a comfortable cotton and polyester blend, this tee features screen-printed graphics that proudly display the Hokies logo. Whether you're cheering on the team at Lane Stadium or just showing your Hokies pride, this tee is a must-have for any Virginia Tech fan.\t\tCollege\t\t\t\t\t\tMen\t\t\tM;S;3XL;XL;2XL;L\t\t\t\t\t\t\t\t\t\t\t\thttps://feeds.frgimages.com/_pi5257000_ff_5257010-f5b53c239165fb499a60_full.jpg?_hv=2&w=340\t\t\t\t\t\t\t\t\t\t\t\t\t\t\t\t\t\tSports & Outdoors~Fan Shop~Clothing & Accessories~T-Shirts\tShort Sleeve\tVirginia Tech Hokies\t\t0.41\t\t\t\t\tUSD\n",
      "200180351\tWomen's Antigua  Navy Jacksonville Jumbo Shrimp Tribute Half-Zip Pullover Top\thttps://fanatics.93n6tx.net/c/5567077/669352/9663?prodsku=200180351&u=https%3A%2F%2Fwww.fanatics.com%2Fmilb%2Fjacksonville-jumbo-shrimp%2Fsweatshirts%2F-jacksonville-jumbo-shrimp-antigua-womens-tribute-half-zip-pullover-top-navy%2Fo-3486%2Bt-21885392%2Bd-19779010%2Bf-582939420%2Bz-9-4037510759&intsrc=CATF_5042\thttps://feeds.frgimages.com/_ss5_p-200180351+u-32sjpdmqgi2eitzmvous+v-gohcqxhnvywdnxw5fd2p.jpg?_hv=2\t74.99\tY\tNew\t\t197719364124;197719364094;197719364117;197719364131;197719364100\t\t\t\t74.99\t\t\tAntigua\tShow your support for the Jacksonville Jumbo Shrimp with this Antigua Tribute Half-Zip Pullover Top. This lightweight pullover is perfect for mild temperatures and features water-resistant fabric to keep you dry. The dyed-to-match taping detail adds a touch of style, while the on-seam welt hip pockets provide convenient storage.  Whether you're at the ballpark or just out and about, this pullover will keep you comfortable and stylish while showing off your love for the Jacksonville Jumbo Shrimp.\t\tMiLB\t\t\t\t\t\tWomen\t\t\tXL;S;L;2XL;M\t\t\t\t\t\t\t\t\t\t\t\thttps://feeds.frgimages.com/_ss5_p-200180351+u-32sjpdmqgi2eitzmvous+v-gohcqxhnvywdnxw5fd2p.jpg?_hv=2&w=340\t\t\t\t\t\t\t\t\t\t\t\t\t\t\t\t\t\tSports & Outdoors~Fan Shop~Clothing & Accessories~Jackets\tLong Sleeve~Crew\tJacksonville Jumbo Shrimp\t\t0.41\t\t\t\t\tUSD\n",
      "200465364\tKeyscaper  Rey Mysterio Galaxy Impact Clear Case\thttps://fanatics.93n6tx.net/c/5567077/669352/9663?prodsku=200465364&u=https%3A%2F%2Fwww.fanatics.com%2Fwwe%2Frey-mysterio%2Fhome-and-office%2F-rey-mysterio-keyscaper-galaxy-impact-clear-case%2Fo-7888108126%2Bt-454567117%2Bd-6181%2Bf-646533446%2Bz-8-4016705306&intsrc=CATF_5042\thttps://feeds.frgimages.com/_ss5_p-200465364+u-wkhjvsnlnvlfka40wrwh+v-j8vogncgrextnpzxbz4v.jpg?_hv=2\t34.99\tY\tNew\t\t197281950916;197281172295;197281172028;197281171663;197281171939;197281950923;197281173643;197281950909;197281171489;197281173377;197281171755\t\t\t\t34.99\t\t\tKeyscaper\tRep your favorite WWE superstar with this Rey Mysterio Galaxy Impact Clear Case. This stylish phone case is made of impact resistant flexible plastic, and features a snap-on design that ensures a secure fit. It's a great way to show your undying love for Rey Mysterio and the WWE!\t\tWWE\t\t\t\t\t\t\t\t\tS24;S20 Plus;S23 Ultra;S22;S23;S24 Ultra;S21;S24 Plus;S21 Plus;S20;S22 Ultra\t\t\t\t\t\t\t\t\t\t\t\thttps://feeds.frgimages.com/_ss5_p-200465364+u-wkhjvsnlnvlfka40wrwh+v-j8vogncgrextnpzxbz4v.jpg?_hv=2&w=340\t\t\t\t\t\t\t\t\t\t\t\t\t\t\t\t\t\tSports & Outdoors~Fan Shop~Clothing & Accessories~Accessories\tElectronics~Phone Cases\tRey Mysterio\t\t0.50\t\t\t\t\tUSD\n",
      "201060326\tWomen's Cutter & Buck  Gray Los Angeles Dodgers City Connect Rainier PrimaLoft Eco Insulated Full-Zip Puffer Jacket\thttps://fanatics.93n6tx.net/c/5567077/669352/9663?prodsku=201060326&u=https%3A%2F%2Fwww.fanatics.com%2Fmlb%2Flos-angeles-dodgers%2Fjackets%2F-los-angeles-dodgers-cutter-and-buck-womens-city-connect-rainier-primaloft-eco-insulated-full-zip-puffer-jacket-gray%2Fo-1287%2Bt-70669888%2Bd-86884566%2Bf-388658100%2Bz-9-1274433437&intsrc=CATF_5042\thttps://feeds.frgimages.com/_ss5_p-201060326+u-xtpdbxw6fy70glanz64b+v-vk8nulhsllubf2lcgx4v.jpg?_hv=2\t234.99\tY\tNew\t\t197948909646;197948909639;197948909660;197948909677;197948909653;197948909622;197948909684\t\t\t\t234.99\t\t\tCutter & Buck\tStay warm and show your Los Angeles Dodgers pride with the Women's Cutter & Buck Gray Los Angeles Dodgers City Connect Rainier PrimaLoft Eco Insulated Full-Zip Puffer Jacket. This heavyweight jacket is perfect for cold temperatures, and it's wind and water resistant to keep you comfortable in any weather. The embroidered Los Angeles Dodgers graphics show your team spirit, and the jacket packs into its own pocket for easy storage.  This jacket is perfect for the dedicated Los Angeles Dodgers fan who wants to stay warm and stylish while cheering on their team.\t\tMLB\t\t\t\t\t\tWomen\t\t\tM;S;XL;2XL;L;XS;3XL\t\t\t\t\t\t\t\t\t\t\t\thttps://feeds.frgimages.com/_ss5_p-201060326+u-xtpdbxw6fy70glanz64b+v-vk8nulhsllubf2lcgx4v.jpg?_hv=2&w=340\t\t\t\t\t\t\t\t\t\t\t\t\t\t\t\t\t\tSports & Outdoors~Fan Shop~Clothing & Accessories\tLong Sleeve\tLos Angeles Dodgers\t\t0.40\t\t\t\t\tUSD\n",
      "201672930\tMen's '47 Black Detroit Lions Pride Franklin T-Shirt\thttps://fanatics.93n6tx.net/c/5567077/669352/9663?prodsku=201672930&u=https%3A%2F%2Fwww.fanatics.com%2Fnfl%2Fdetroit-lions%2Ft-shirts%2Fdetroit-lions-47-pride-franklin-t-shirt-black%2Fo-7950%2Bt-81157908%2Bd-9799919%2Bf-782371827%2Bz-8-2449078773&intsrc=CATF_5042\thttps://feeds.frgimages.com/_ss5_p-201672930+u-naury5nusrfdooo4c0yx+v-wqroka6uetdcfkitamwo.jpg?_hv=2\t37.99\tY\tNew\t\t198589017301;198589017325;198589017288;198589017295;198589017318\t\t\t\t37.99\t\t\t'47\tLet everyone know that the Detroit Lions are for everyone by grabbing this Pride Franklin T-Shirt. Made from ultra-soft fabric, this shirt will keep you comfortable at all times. Whether your taking in the action from Ford Field or your couch, your Detroit Lions pride will be present at all times.\t\tNFL\t\t\t\t\t\tMen\t\t\tL;2XL;S;M;XL\t\t\t\t\t\t\t\t\t\t\t\thttps://feeds.frgimages.com/_ss5_p-201672930+u-naury5nusrfdooo4c0yx+v-wqroka6uetdcfkitamwo.jpg?_hv=2&w=340\t\t\t\t\t\t\t\t\t\t\t\t\t\t\t\t\t\tSports & Outdoors~Fan Shop~Clothing & Accessories~T-Shirts\tShort Sleeve\tDetroit Lions\t\t0.42\t\t\t\t\tUSD\n",
      "200562483\tWomen's Antigua Heather Gray New England Patriots Confront Quarter-Zip Pullover Top\thttps://fanatics.93n6tx.net/c/5567077/669352/9663?prodsku=200562483&u=https%3A%2F%2Fwww.fanatics.com%2Fnfl%2Fnew-england-patriots%2Fsweatshirts%2Fnew-england-patriots-antigua-womens-confront-quarter-zip-pullover-top-heather-gray%2Fo-3583%2Bt-47829285%2Bd-64665643%2Bf-584350048%2Bz-9-3114353887&intsrc=CATF_5042\thttps://feeds.frgimages.com/_ss5_p-200562483+u-yok7pz6ziqq45td22zch+v-vhkus8u0zekpduimt0n3.jpg?_hv=2\t89.99\tY\tNew\t\t197872093398;197872093374;197872093367;197872093381;197872093350\t\t\t\t89.99\t\t\tAntigua\tRepresent your New England Patriots with pride in this Antigua Heather Gray Confront Quarter-Zip Pullover Top. This lightweight pullover is perfect for mild temperatures and features heat-sealed New England Patriots graphics, so you can show your team spirit in style.  This pullover is perfect for game day or any day you want to show your Patriots pride.\t\tNFL\t\t\t\t\t\tWomen\t\t\t2XL;L;M;XL;S\t\t\t\t\t\t\t\t\t\t\t\thttps://feeds.frgimages.com/_ss5_p-200562483+u-yok7pz6ziqq45td22zch+v-vhkus8u0zekpduimt0n3.jpg?_hv=2&w=340\t\t\t\t\t\t\t\t\t\t\t\t\t\t\t\t\t\tSports & Outdoors~Fan Shop~Clothing & Accessories~Jackets\tLong Sleeve~Crew\tNew England Patriots\t\t0.40\t\t\t\t\tUSD\n",
      "5259694\tMen's Champion Royal BYU Cougars Soccer Stack Logo T-Shirt\thttps://fanatics.93n6tx.net/c/5567077/669352/9663?prodsku=5259694&u=https%3A%2F%2Fwww.fanatics.com%2Fcollege%2Fbyu-cougars%2Ft-shirts%2Fbyu-cougars-champion-soccer-stack-logo-t-shirt-royal%2Fo-27%2Bt-34816979%2Bd-19223546%2Bf-27487265%2Bz-9-49276396&intsrc=CATF_5042\thttps://feeds.frgimages.com/_pi5259000_ff_5259694-340324310fef079de9e0_full.jpg?_hv=2\t31.99\tY\tNew\t\t197141854675;197141854682;197141854705;197141854668;197141854699;197141854651\t\t\t\t31.99\t\t\tChampion\tThe Champion Royal BYU Cougars Soccer Stack Logo T-shirt is a must-have for loyal BYU Cougars fans. Double-stitched and reinforced shoulder seams ensure durability, while the ribbed collar and screen-printed graphics add style. Cotton material provides all-day comfort. Whether cheering at the stadium or showing support, this shirt represents your team perfectly.\t\tCollege\t\t\t\t\t\tMen\t\t\tL;XL;3XL;M;2XL;S\t\t\t\t\t\t\t\t\t\t\t\thttps://feeds.frgimages.com/_pi5259000_ff_5259694-340324310fef079de9e0_full.jpg?_hv=2&w=340\t\t\t\t\t\t\t\t\t\t\t\t\t\t\t\t\t\tSports & Outdoors~Fan Shop~Clothing & Accessories~T-Shirts\tShort Sleeve\tBYU Cougars\t\t0.35\t\t\t\t\tUSD\n",
      "200051390\tMike Trout Los Angeles Angels Autographed Bat - Art by Stadium Custom Kicks - #1 of Limited Edition 1 - B720877\thttps://fanatics.93n6tx.net/c/5567077/669352/9663?prodsku=200051390&u=https%3A%2F%2Fwww.fanatics.com%2Fmlb%2Flos-angeles-angels%2Fcollectibles-and-memorabilia%2Fmike-trout-los-angeles-angels-autographed-fanatics-authentic-bat-hand-painted-by-artist-stadium-custom-kicks-limited-edition-1-of-1%2Fo-4510%2Bt-69003280%2Bd-31111193%2Bf-616089601%2Bz-9-1677943927&intsrc=CATF_5042\thttps://feeds.frgimages.com/_ss5_p-200051390+u-ttcvvoy4muq44fyp1xxt+v-w9hk9ig1uzuzkll5zshg.jpg?_hv=2\t2699.99\tY\tNew\t\t793395370772\t\t\t\t2699.99\t\t\tFanatics Authentic\tIf your favorite Los Angeles Angels player is Mike Trout, then be sure to pick up this autographed Bat. This one-of-one item features the star's authenticated signature and a striking design that was hand-painted by Artist Stadium Custom Kicks. Since making his major league debut in 2011, Trout has been of the MLB's premier players. Through his first 12 seasons, he won three AL MVPs and nine Silver Slugger Awards, while he was also selected as an All-Star 10 times. Your die-hard fandom of Trout and the Angels will be on full display when you add this signed memorabilia to your collection.\t\tMLB\t\t\t\t\t\t\t\t\tNo Size\t\t\t\t\t\t\t\t\t\t\t\thttps://feeds.frgimages.com/_ss5_p-200051390+u-ttcvvoy4muq44fyp1xxt+v-w9hk9ig1uzuzkll5zshg.jpg?_hv=2&w=340\t\t\t\t\t\t\t\t\t\t\t\t\t\t\t\t\t\t\tBats\tLos Angeles Angels\t\t0.37\t\t\t\t\tUSD\n"
     ]
    }
   ],
   "source": [
    "# Define the filename\n",
    "filename = 'Fanatics-Product-Catalog_IR.txt'\n",
    "\n",
    "# Display the first 5 rows of the file\n",
    "try:\n",
    "    with open(filename, 'r') as file:\n",
    "        for i, line in enumerate(file):\n",
    "            if i < 10:\n",
    "                print(line.strip())\n",
    "            else:\n",
    "                break\n",
    "except FileNotFoundError:\n",
    "    print(f\"File {filename} not found.\")\n"
   ]
  }
 ],
 "metadata": {
  "kernelspec": {
   "display_name": "Python 3",
   "language": "python",
   "name": "python3"
  },
  "language_info": {
   "codemirror_mode": {
    "name": "ipython",
    "version": 3
   },
   "file_extension": ".py",
   "mimetype": "text/x-python",
   "name": "python",
   "nbconvert_exporter": "python",
   "pygments_lexer": "ipython3",
   "version": "3.12.4"
  }
 },
 "nbformat": 4,
 "nbformat_minor": 2
}
