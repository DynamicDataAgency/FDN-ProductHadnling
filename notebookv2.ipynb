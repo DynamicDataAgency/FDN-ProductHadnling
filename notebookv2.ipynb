{
 "cells": [
  {
   "cell_type": "code",
   "execution_count": 1,
   "metadata": {},
   "outputs": [
    {
     "name": "stdout",
     "output_type": "stream",
     "text": [
      "First 1000 rows with 'Category' as 'NFL' have been written to output.csv.\n"
     ]
    }
   ],
   "source": [
    "import csv\n",
    "\n",
    "# Define the filenames\n",
    "input_filename = 'Fanatics-Product-Catalog_IR.txt'\n",
    "output_filename = 'output.csv'\n",
    "\n",
    "# Define the number of rows to extract\n",
    "num_rows = 1000000\n",
    "\n",
    "# Read the first 1000 rows from the input file and write the filtered rows to the CSV file\n",
    "try:\n",
    "    with open(input_filename, 'r', encoding='utf-8') as infile, open(output_filename, 'w', newline='', encoding='utf-8') as outfile:\n",
    "        reader = csv.reader(infile, delimiter='\\t')\n",
    "        writer = csv.writer(outfile)\n",
    "\n",
    "        # Write header row\n",
    "        header = next(reader)\n",
    "        writer.writerow(header)\n",
    "\n",
    "        row_count = 0\n",
    "\n",
    "        for row in reader:\n",
    "            if row[18] == \"NFL\":  # Assuming the \"Category\" column is the second column (index 1)\n",
    "                writer.writerow(row)\n",
    "                row_count += 1\n",
    "                if row_count >= num_rows:\n",
    "                    break\n",
    "\n",
    "    print(f\"First {num_rows} rows with 'Category' as 'NFL' have been written to {output_filename}.\")\n",
    "except FileNotFoundError:\n",
    "    print(f\"File {input_filename} not found.\")\n"
   ]
  },
  {
   "cell_type": "code",
   "execution_count": 2,
   "metadata": {},
   "outputs": [
    {
     "name": "stderr",
     "output_type": "stream",
     "text": [
      "C:\\Users\\acer\\AppData\\Local\\Temp\\ipykernel_25152\\2373122867.py:13: DtypeWarning: Columns (9) have mixed types. Specify dtype option on import or set low_memory=False.\n",
      "  df = pd.read_csv(local_txt_filename, delimiter='\\t')\n"
     ]
    },
    {
     "name": "stdout",
     "output_type": "stream",
     "text": [
      "    Unique Merchant SKU                                       Product Name  \\\n",
      "5             201672930  Men's '47 Black Detroit Lions Pride Franklin T...   \n",
      "6             200562483  Women's Antigua Heather Gray New England Patri...   \n",
      "10            200545392  Women's G-III 4Her by Carl Banks  Heather Gray...   \n",
      "11            201101997  Men's Antigua Navy New York Giants Objection F...   \n",
      "12            200781930  Men's Pro Standard  White Chicago Bears Classi...   \n",
      "\n",
      "                                          Product URL  \\\n",
      "5   https://fanatics.93n6tx.net/c/5567077/669352/9...   \n",
      "6   https://fanatics.93n6tx.net/c/5567077/669352/9...   \n",
      "10  https://fanatics.93n6tx.net/c/5567077/669352/9...   \n",
      "11  https://fanatics.93n6tx.net/c/5567077/669352/9...   \n",
      "12  https://fanatics.93n6tx.net/c/5567077/669352/9...   \n",
      "\n",
      "                                            Image URL  Current Price  \\\n",
      "5   https://feeds.frgimages.com/_ss5_p-201672930+u...          37.99   \n",
      "6   https://feeds.frgimages.com/_ss5_p-200562483+u...          89.99   \n",
      "10  https://feeds.frgimages.com/_ss5_p-200545392+u...          69.99   \n",
      "11  https://feeds.frgimages.com/_ss5_p-201101997+u...         104.99   \n",
      "12  https://feeds.frgimages.com/_ss5_p-200781930+u...          69.99   \n",
      "\n",
      "   Stock Availability Condition  EAN  \\\n",
      "5                   Y       New  NaN   \n",
      "6                   Y       New  NaN   \n",
      "10                  Y       New  NaN   \n",
      "11                  Y       New  NaN   \n",
      "12                  Y       New  NaN   \n",
      "\n",
      "                                                  UPC ISBN  ...  Numeric1  \\\n",
      "5   198589017301;198589017325;198589017288;1985890...  NaN  ...       NaN   \n",
      "6   197872093398;197872093374;197872093367;1978720...  NaN  ...       NaN   \n",
      "10  197858680420;197858680468;197858680444;1978586...  NaN  ...       NaN   \n",
      "11  198196293372;198196293389;198196293358;1981962...  NaN  ...       NaN   \n",
      "12  196541895196;196541895158;196541895141;1965418...  NaN  ...       NaN   \n",
      "\n",
      "    Numeric2  Numeric3  Money1  Money2 Money3 Currency  Shipping Region  \\\n",
      "5       0.42       NaN     NaN     NaN    NaN      USD              NaN   \n",
      "6       0.40       NaN     NaN     NaN    NaN      USD              NaN   \n",
      "10      0.40       NaN     NaN     NaN    NaN      USD              NaN   \n",
      "11      0.44       NaN     NaN     NaN    NaN      USD              NaN   \n",
      "12      0.55       NaN     NaN     NaN    NaN      USD              NaN   \n",
      "\n",
      "   Labels  Promotion  \n",
      "5     NaN        NaN  \n",
      "6     NaN        NaN  \n",
      "10    NaN        NaN  \n",
      "11    NaN        NaN  \n",
      "12    NaN        NaN  \n",
      "\n",
      "[5 rows x 70 columns]\n"
     ]
    }
   ],
   "source": [
    "import pandas as pd\n",
    "import os\n",
    "\n",
    "# Get the current working directory\n",
    "directory = os.getcwd()\n",
    "\n",
    "# Path to the decompressed .txt file\n",
    "local_txt_filename = os.path.join(directory, \"Fanatics-Product-Catalog_IR.txt\")\n",
    "\n",
    "# Load the decompressed .txt file into a Pandas DataFrame\n",
    "if os.path.exists(local_txt_filename):\n",
    "    # Assuming the file is tab-delimited, adjust the delimiter if necessary\n",
    "    df = pd.read_csv(local_txt_filename, delimiter='\\t')\n",
    "    \n",
    "    # Filter rows where the \"Category\" is \"NFL\"\n",
    "    nfl_df = df[df[\"Category\"] == \"NFL\"]\n",
    "    \n",
    "    print(nfl_df.head())  # Display the first 5 rows of the filtered DataFrame\n",
    "else:\n",
    "    print(f\"{local_txt_filename} does not exist.\")\n"
   ]
  },
  {
   "cell_type": "code",
   "execution_count": 3,
   "metadata": {},
   "outputs": [
    {
     "name": "stderr",
     "output_type": "stream",
     "text": [
      "C:\\Users\\acer\\AppData\\Local\\Temp\\ipykernel_25152\\4067475671.py:13: DtypeWarning: Columns (9) have mixed types. Specify dtype option on import or set low_memory=False.\n",
      "  df = pd.read_csv(local_txt_filename, delimiter='\\t')\n"
     ]
    },
    {
     "name": "stdout",
     "output_type": "stream",
     "text": [
      "Filtered data exported to c:\\coderHouse\\Backend\\SportsFanElite-ProductHandler\\NFL_Fanatics_Product_Catalog.csv\n"
     ]
    }
   ],
   "source": [
    "import pandas as pd\n",
    "import os\n",
    "\n",
    "# Get the current working directory\n",
    "directory = os.getcwd()\n",
    "\n",
    "# Path to the decompressed .txt file\n",
    "local_txt_filename = os.path.join(directory, \"Fanatics-Product-Catalog_IR.txt\")\n",
    "\n",
    "# Load the decompressed .txt file into a Pandas DataFrame\n",
    "if os.path.exists(local_txt_filename):\n",
    "    # Assuming the file is tab-delimited, adjust the delimiter if necessary\n",
    "    df = pd.read_csv(local_txt_filename, delimiter='\\t')\n",
    "    \n",
    "    # Filter rows where the \"Category\" is \"NFL\"\n",
    "    nfl_df = df[df[\"Category\"] == \"NFL\"]\n",
    "    \n",
    "    # Path for the output CSV file\n",
    "    output_csv_filename = os.path.join(directory, \"NFL_Fanatics_Product_Catalog.csv\")\n",
    "    \n",
    "    # Export the filtered DataFrame to a CSV file\n",
    "    nfl_df.to_csv(output_csv_filename, index=False)\n",
    "    \n",
    "    print(f\"Filtered data exported to {output_csv_filename}\")\n",
    "else:\n",
    "    print(f\"{local_txt_filename} does not exist.\")\n"
   ]
  },
  {
   "cell_type": "code",
   "execution_count": 4,
   "metadata": {},
   "outputs": [
    {
     "name": "stderr",
     "output_type": "stream",
     "text": [
      "C:\\Users\\acer\\AppData\\Local\\Temp\\ipykernel_25152\\2632868768.py:13: DtypeWarning: Columns (9) have mixed types. Specify dtype option on import or set low_memory=False.\n",
      "  df = pd.read_csv(local_txt_filename, delimiter='\\t')\n"
     ]
    },
    {
     "name": "stdout",
     "output_type": "stream",
     "text": [
      "Filtered data (first 1000 rows) exported to c:\\coderHouse\\Backend\\SportsFanElite-ProductHandler\\NFL_Fanatics_Product_Catalog_1000.csv\n"
     ]
    }
   ],
   "source": [
    "import pandas as pd\n",
    "import os\n",
    "\n",
    "# Get the current working directory\n",
    "directory = os.getcwd()\n",
    "\n",
    "# Path to the decompressed .txt file\n",
    "local_txt_filename = os.path.join(directory, \"Fanatics-Product-Catalog_IR.txt\")\n",
    "\n",
    "# Load the decompressed .txt file into a Pandas DataFrame\n",
    "if os.path.exists(local_txt_filename):\n",
    "    # Assuming the file is tab-delimited, adjust the delimiter if necessary\n",
    "    df = pd.read_csv(local_txt_filename, delimiter='\\t')\n",
    "    \n",
    "    # Filter rows where the \"Category\" is \"NFL\"\n",
    "    nfl_df = df[df[\"Category\"] == \"NFL\"]\n",
    "    \n",
    "    # Get the first 1000 rows of the filtered DataFrame\n",
    "    nfl_df_1000 = nfl_df.head(1000)\n",
    "    \n",
    "    # Path for the output CSV file\n",
    "    output_csv_filename = os.path.join(directory, \"NFL_Fanatics_Product_Catalog_1000.csv\")\n",
    "    \n",
    "    # Export the first 1000 rows of the filtered DataFrame to a CSV file\n",
    "    nfl_df_1000.to_csv(output_csv_filename, index=False)\n",
    "    \n",
    "    print(f\"Filtered data (first 1000 rows) exported to {output_csv_filename}\")\n",
    "else:\n",
    "    print(f\"{local_txt_filename} does not exist.\")\n"
   ]
  }
 ],
 "metadata": {
  "kernelspec": {
   "display_name": "Python 3",
   "language": "python",
   "name": "python3"
  },
  "language_info": {
   "codemirror_mode": {
    "name": "ipython",
    "version": 3
   },
   "file_extension": ".py",
   "mimetype": "text/x-python",
   "name": "python",
   "nbconvert_exporter": "python",
   "pygments_lexer": "ipython3",
   "version": "3.12.5"
  }
 },
 "nbformat": 4,
 "nbformat_minor": 2
}
