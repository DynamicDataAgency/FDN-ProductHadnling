{
 "cells": [
  {
   "cell_type": "code",
   "execution_count": 4,
   "metadata": {},
   "outputs": [],
   "source": [
    "import pandas as pd\n"
   ]
  },
  {
   "cell_type": "code",
   "execution_count": 5,
   "metadata": {},
   "outputs": [],
   "source": [
    "# get df from google sheet file\n",
    "def get_df_from_google_sheet(file_id, sheet_name):\n",
    "    url = f\"https://docs.google.com/spreadsheets/d/{file_id}/gviz/tq?tqx=out:csv&sheet={sheet_name}\"\n",
    "    df = pd.read_csv(url)\n",
    "    return df"
   ]
  },
  {
   "cell_type": "code",
   "execution_count": 6,
   "metadata": {},
   "outputs": [
    {
     "data": {
      "text/html": [
       "<div>\n",
       "<style scoped>\n",
       "    .dataframe tbody tr th:only-of-type {\n",
       "        vertical-align: middle;\n",
       "    }\n",
       "\n",
       "    .dataframe tbody tr th {\n",
       "        vertical-align: top;\n",
       "    }\n",
       "\n",
       "    .dataframe thead th {\n",
       "        text-align: right;\n",
       "    }\n",
       "</style>\n",
       "<table border=\"1\" class=\"dataframe\">\n",
       "  <thead>\n",
       "    <tr style=\"text-align: right;\">\n",
       "      <th></th>\n",
       "      <th>ID</th>\n",
       "      <th>Handle</th>\n",
       "      <th>Metafield: custom.product_url [url]</th>\n",
       "    </tr>\n",
       "  </thead>\n",
       "  <tbody>\n",
       "    <tr>\n",
       "      <th>0</th>\n",
       "      <td>9515363795250</td>\n",
       "      <td>denver-broncos-12-x-15-super-bowl-50-champions...</td>\n",
       "      <td>https://www.fanatics.com/nfl/denver-broncos/de...</td>\n",
       "    </tr>\n",
       "    <tr>\n",
       "      <th>1</th>\n",
       "      <td>9515363369266</td>\n",
       "      <td>denver-broncos-riddell-2024-slate-alternate-sp...</td>\n",
       "      <td>https://www.fanatics.com/nfl/denver-broncos/de...</td>\n",
       "    </tr>\n",
       "    <tr>\n",
       "      <th>2</th>\n",
       "      <td>9515363074354</td>\n",
       "      <td>riddell-denver-broncos-revolution-speed-mini-f...</td>\n",
       "      <td>https://www.fanatics.com/nfl/denver-broncos/ri...</td>\n",
       "    </tr>\n",
       "    <tr>\n",
       "      <th>3</th>\n",
       "      <td>9515363664178</td>\n",
       "      <td>john-elway-denver-broncos-autographed-riddell-...</td>\n",
       "      <td>https://www.fanatics.com/nfl/denver-broncos/jo...</td>\n",
       "    </tr>\n",
       "    <tr>\n",
       "      <th>4</th>\n",
       "      <td>9515364516146</td>\n",
       "      <td>patrick-surtain-ii-denver-broncos-facsimile-si...</td>\n",
       "      <td>https://www.fanatics.com/nfl/denver-broncos/pa...</td>\n",
       "    </tr>\n",
       "  </tbody>\n",
       "</table>\n",
       "</div>"
      ],
      "text/plain": [
       "              ID                                             Handle  \\\n",
       "0  9515363795250  denver-broncos-12-x-15-super-bowl-50-champions...   \n",
       "1  9515363369266  denver-broncos-riddell-2024-slate-alternate-sp...   \n",
       "2  9515363074354  riddell-denver-broncos-revolution-speed-mini-f...   \n",
       "3  9515363664178  john-elway-denver-broncos-autographed-riddell-...   \n",
       "4  9515364516146  patrick-surtain-ii-denver-broncos-facsimile-si...   \n",
       "\n",
       "                 Metafield: custom.product_url [url]  \n",
       "0  https://www.fanatics.com/nfl/denver-broncos/de...  \n",
       "1  https://www.fanatics.com/nfl/denver-broncos/de...  \n",
       "2  https://www.fanatics.com/nfl/denver-broncos/ri...  \n",
       "3  https://www.fanatics.com/nfl/denver-broncos/jo...  \n",
       "4  https://www.fanatics.com/nfl/denver-broncos/pa...  "
      ]
     },
     "execution_count": 6,
     "metadata": {},
     "output_type": "execute_result"
    }
   ],
   "source": [
    "df = get_df_from_google_sheet(\"1znmHEq3p1dNBjK-mBtiiPIyeu4UUzS3U267IVuZKb_s\", \"231040887\")\n",
    "df.head()"
   ]
  },
  {
   "cell_type": "code",
   "execution_count": 7,
   "metadata": {},
   "outputs": [
    {
     "name": "stderr",
     "output_type": "stream",
     "text": [
      "C:\\Users\\acer\\AppData\\Local\\Temp\\ipykernel_13416\\3505279390.py:1: DtypeWarning: Columns (7,9) have mixed types. Specify dtype option on import or set low_memory=False.\n",
      "  NFL_df = pd.read_csv('NFL_Fanatics_Product_Catalog.csv')\n"
     ]
    },
    {
     "data": {
      "text/plain": [
       "(180350, 70)"
      ]
     },
     "execution_count": 7,
     "metadata": {},
     "output_type": "execute_result"
    }
   ],
   "source": [
    "NFL_df = pd.read_csv('NFL_Fanatics_Product_Catalog.csv')\n",
    "NFL_df.shape"
   ]
  },
  {
   "cell_type": "code",
   "execution_count": 8,
   "metadata": {},
   "outputs": [
    {
     "data": {
      "text/plain": [
       "Index(['Unique Merchant SKU', 'Product Name', 'Product URL', 'Image URL',\n",
       "       'Current Price', 'Stock Availability', 'Condition', 'EAN', 'UPC',\n",
       "       'ISBN', 'MPN', 'Shipping Rate', 'Original Price', 'Coupon Code',\n",
       "       'Coupon Code Description', 'Manufacturer', 'Product Description',\n",
       "       'Product Type', 'Category', 'Category ID', 'Parent SKU', 'Parent Name',\n",
       "       'Top Seller Rank', 'Estimated Ship Date', 'Gender', 'Color', 'Material',\n",
       "       'Size', 'Size Unit of Measure', 'Age Range', 'Cell Phone Plan Type',\n",
       "       'Cell Phone Service Provider', 'Stock Description',\n",
       "       'Product Launch Date', 'Product Bullet Point 1',\n",
       "       'Product Bullet Point 2', 'Product Bullet Point 3',\n",
       "       'Product Bullet Point 4', 'Product Bullet Point 5',\n",
       "       'Alternative Image URL 1', 'Alternative Image URL 2',\n",
       "       'Alternative Image URL 3', 'Alternative Image URL 4',\n",
       "       'Alternative Image URL 5', 'Mobile URL', 'Related Products',\n",
       "       'Merchandising Type', 'Product Weight', 'Zip Code', 'Shipping Weight',\n",
       "       'Weight Unit of Measure', 'Format', 'Unit Price', 'Bundle',\n",
       "       'Software Platform', 'Watch Display Type', 'ProductBid', 'Text1',\n",
       "       'Text2', 'Text3', 'Numeric1', 'Numeric2', 'Numeric3', 'Money1',\n",
       "       'Money2', 'Money3', 'Currency', 'Shipping Region', 'Labels',\n",
       "       'Promotion'],\n",
       "      dtype='object')"
      ]
     },
     "execution_count": 8,
     "metadata": {},
     "output_type": "execute_result"
    }
   ],
   "source": [
    "NFL_df.columns"
   ]
  },
  {
   "cell_type": "code",
   "execution_count": 9,
   "metadata": {},
   "outputs": [],
   "source": [
    "# NFL_df get only the columns we need\n",
    "NFL_df_URL_and_sizes = NFL_df[['Product URL', 'Size']]"
   ]
  },
  {
   "cell_type": "code",
   "execution_count": 10,
   "metadata": {},
   "outputs": [
    {
     "data": {
      "text/html": [
       "<div>\n",
       "<style scoped>\n",
       "    .dataframe tbody tr th:only-of-type {\n",
       "        vertical-align: middle;\n",
       "    }\n",
       "\n",
       "    .dataframe tbody tr th {\n",
       "        vertical-align: top;\n",
       "    }\n",
       "\n",
       "    .dataframe thead th {\n",
       "        text-align: right;\n",
       "    }\n",
       "</style>\n",
       "<table border=\"1\" class=\"dataframe\">\n",
       "  <thead>\n",
       "    <tr style=\"text-align: right;\">\n",
       "      <th></th>\n",
       "      <th>Product URL</th>\n",
       "      <th>Size</th>\n",
       "    </tr>\n",
       "  </thead>\n",
       "  <tbody>\n",
       "    <tr>\n",
       "      <th>0</th>\n",
       "      <td>https://fanatics.93n6tx.net/c/5567077/669352/9...</td>\n",
       "      <td>L;2XL;S;M;XL</td>\n",
       "    </tr>\n",
       "    <tr>\n",
       "      <th>1</th>\n",
       "      <td>https://fanatics.93n6tx.net/c/5567077/669352/9...</td>\n",
       "      <td>2XL;L;M;XL;S</td>\n",
       "    </tr>\n",
       "    <tr>\n",
       "      <th>2</th>\n",
       "      <td>https://fanatics.93n6tx.net/c/5567077/669352/9...</td>\n",
       "      <td>XL;XS;M;L;2XL</td>\n",
       "    </tr>\n",
       "    <tr>\n",
       "      <th>3</th>\n",
       "      <td>https://fanatics.93n6tx.net/c/5567077/669352/9...</td>\n",
       "      <td>XL;2XL;M;L</td>\n",
       "    </tr>\n",
       "    <tr>\n",
       "      <th>4</th>\n",
       "      <td>https://fanatics.93n6tx.net/c/5567077/669352/9...</td>\n",
       "      <td>3XL;M;S;XL</td>\n",
       "    </tr>\n",
       "  </tbody>\n",
       "</table>\n",
       "</div>"
      ],
      "text/plain": [
       "                                         Product URL           Size\n",
       "0  https://fanatics.93n6tx.net/c/5567077/669352/9...   L;2XL;S;M;XL\n",
       "1  https://fanatics.93n6tx.net/c/5567077/669352/9...   2XL;L;M;XL;S\n",
       "2  https://fanatics.93n6tx.net/c/5567077/669352/9...  XL;XS;M;L;2XL\n",
       "3  https://fanatics.93n6tx.net/c/5567077/669352/9...     XL;2XL;M;L\n",
       "4  https://fanatics.93n6tx.net/c/5567077/669352/9...     3XL;M;S;XL"
      ]
     },
     "execution_count": 10,
     "metadata": {},
     "output_type": "execute_result"
    }
   ],
   "source": [
    "NFL_df_URL_and_sizes.head()"
   ]
  },
  {
   "cell_type": "code",
   "execution_count": 11,
   "metadata": {},
   "outputs": [
    {
     "name": "stderr",
     "output_type": "stream",
     "text": [
      "C:\\Users\\acer\\AppData\\Local\\Temp\\ipykernel_13416\\3548282855.py:2: SettingWithCopyWarning: \n",
      "A value is trying to be set on a copy of a slice from a DataFrame.\n",
      "Try using .loc[row_indexer,col_indexer] = value instead\n",
      "\n",
      "See the caveats in the documentation: https://pandas.pydata.org/pandas-docs/stable/user_guide/indexing.html#returning-a-view-versus-a-copy\n",
      "  NFL_df_URL_and_sizes['Product URL'] = NFL_df_URL_and_sizes['Product URL'].astype(str)\n"
     ]
    }
   ],
   "source": [
    "df['ID'] = df['ID'].astype(str)\n",
    "NFL_df_URL_and_sizes['Product URL'] = NFL_df_URL_and_sizes['Product URL'].astype(str)"
   ]
  },
  {
   "cell_type": "code",
   "execution_count": 12,
   "metadata": {},
   "outputs": [],
   "source": [
    "# include Size column in df \n",
    "merged = pd.merge(df, NFL_df_URL_and_sizes, left_on='Metafield: custom.product_url [url]', right_on='Product URL', how='inner')"
   ]
  },
  {
   "cell_type": "code",
   "execution_count": 13,
   "metadata": {},
   "outputs": [
    {
     "data": {
      "text/html": [
       "<div>\n",
       "<style scoped>\n",
       "    .dataframe tbody tr th:only-of-type {\n",
       "        vertical-align: middle;\n",
       "    }\n",
       "\n",
       "    .dataframe tbody tr th {\n",
       "        vertical-align: top;\n",
       "    }\n",
       "\n",
       "    .dataframe thead th {\n",
       "        text-align: right;\n",
       "    }\n",
       "</style>\n",
       "<table border=\"1\" class=\"dataframe\">\n",
       "  <thead>\n",
       "    <tr style=\"text-align: right;\">\n",
       "      <th></th>\n",
       "      <th>ID</th>\n",
       "      <th>Handle</th>\n",
       "      <th>Metafield: custom.product_url [url]</th>\n",
       "      <th>Product URL</th>\n",
       "      <th>Size</th>\n",
       "    </tr>\n",
       "  </thead>\n",
       "  <tbody>\n",
       "    <tr>\n",
       "      <th>0</th>\n",
       "      <td>9535923814706</td>\n",
       "      <td>womens-antigua-oatmeal-denver-broncos-team-log...</td>\n",
       "      <td>https://fanatics.93n6tx.net/c/5567077/669352/9...</td>\n",
       "      <td>https://fanatics.93n6tx.net/c/5567077/669352/9...</td>\n",
       "      <td>L;XL;S;2XL;3XL;M</td>\n",
       "    </tr>\n",
       "    <tr>\n",
       "      <th>1</th>\n",
       "      <td>9535924470066</td>\n",
       "      <td>christian-kuntz-mens-nike-black-pittsburgh-ste...</td>\n",
       "      <td>https://fanatics.93n6tx.net/c/5567077/669352/9...</td>\n",
       "      <td>https://fanatics.93n6tx.net/c/5567077/669352/9...</td>\n",
       "      <td>2XL;3XL;S;M;L</td>\n",
       "    </tr>\n",
       "    <tr>\n",
       "      <th>2</th>\n",
       "      <td>9535925780786</td>\n",
       "      <td>womens-concepts-sport-gray-kansas-city-chiefs-...</td>\n",
       "      <td>https://fanatics.93n6tx.net/c/5567077/669352/9...</td>\n",
       "      <td>https://fanatics.93n6tx.net/c/5567077/669352/9...</td>\n",
       "      <td>XS;M;S;L;XL</td>\n",
       "    </tr>\n",
       "    <tr>\n",
       "      <th>3</th>\n",
       "      <td>9535925027122</td>\n",
       "      <td>mens-cutter-buck-orange-miami-dolphins-adapt-e...</td>\n",
       "      <td>https://fanatics.93n6tx.net/c/5567077/669352/9...</td>\n",
       "      <td>https://fanatics.93n6tx.net/c/5567077/669352/9...</td>\n",
       "      <td>XL;3XL;2XL;S;L;M</td>\n",
       "    </tr>\n",
       "    <tr>\n",
       "      <th>4</th>\n",
       "      <td>9535926960434</td>\n",
       "      <td>mens-cutter-buck-gray-pittsburgh-steelers-thro...</td>\n",
       "      <td>https://fanatics.93n6tx.net/c/5567077/669352/9...</td>\n",
       "      <td>https://fanatics.93n6tx.net/c/5567077/669352/9...</td>\n",
       "      <td>3XB;2XB;3XT;4XB;2XT;LT;1XB;5XB;4XT;XLT</td>\n",
       "    </tr>\n",
       "    <tr>\n",
       "      <th>5</th>\n",
       "      <td>9535929024818</td>\n",
       "      <td>mojo-minnesota-vikings-21-premium-carry-on-har...</td>\n",
       "      <td>https://fanatics.93n6tx.net/c/5567077/669352/9...</td>\n",
       "      <td>https://fanatics.93n6tx.net/c/5567077/669352/9...</td>\n",
       "      <td>No Size</td>\n",
       "    </tr>\n",
       "    <tr>\n",
       "      <th>6</th>\n",
       "      <td>9535931154738</td>\n",
       "      <td>mens-cutter-buck-gray-new-york-giants-cascade-...</td>\n",
       "      <td>https://fanatics.93n6tx.net/c/5567077/669352/9...</td>\n",
       "      <td>https://fanatics.93n6tx.net/c/5567077/669352/9...</td>\n",
       "      <td>S;M;3XL;XL;2XL;L</td>\n",
       "    </tr>\n",
       "    <tr>\n",
       "      <th>7</th>\n",
       "      <td>9535930171698</td>\n",
       "      <td>garrett-williams-youth-nike-white-arizona-card...</td>\n",
       "      <td>https://fanatics.93n6tx.net/c/5567077/669352/9...</td>\n",
       "      <td>https://fanatics.93n6tx.net/c/5567077/669352/9...</td>\n",
       "      <td>Yth M;Yth XL;Yth L;Yth S</td>\n",
       "    </tr>\n",
       "    <tr>\n",
       "      <th>8</th>\n",
       "      <td>9535931482418</td>\n",
       "      <td>mens-nike-creed-humphrey-red-kansas-city-chief...</td>\n",
       "      <td>https://fanatics.93n6tx.net/c/5567077/669352/9...</td>\n",
       "      <td>https://fanatics.93n6tx.net/c/5567077/669352/9...</td>\n",
       "      <td>2XL;5XL;3XL;L;S;XL;4XL;M</td>\n",
       "    </tr>\n",
       "    <tr>\n",
       "      <th>9</th>\n",
       "      <td>9535932268850</td>\n",
       "      <td>womens-nike-number-1-bride-green-green-bay-pac...</td>\n",
       "      <td>https://fanatics.93n6tx.net/c/5567077/669352/9...</td>\n",
       "      <td>https://fanatics.93n6tx.net/c/5567077/669352/9...</td>\n",
       "      <td>M;S</td>\n",
       "    </tr>\n",
       "  </tbody>\n",
       "</table>\n",
       "</div>"
      ],
      "text/plain": [
       "              ID                                             Handle  \\\n",
       "0  9535923814706  womens-antigua-oatmeal-denver-broncos-team-log...   \n",
       "1  9535924470066  christian-kuntz-mens-nike-black-pittsburgh-ste...   \n",
       "2  9535925780786  womens-concepts-sport-gray-kansas-city-chiefs-...   \n",
       "3  9535925027122  mens-cutter-buck-orange-miami-dolphins-adapt-e...   \n",
       "4  9535926960434  mens-cutter-buck-gray-pittsburgh-steelers-thro...   \n",
       "5  9535929024818  mojo-minnesota-vikings-21-premium-carry-on-har...   \n",
       "6  9535931154738  mens-cutter-buck-gray-new-york-giants-cascade-...   \n",
       "7  9535930171698  garrett-williams-youth-nike-white-arizona-card...   \n",
       "8  9535931482418  mens-nike-creed-humphrey-red-kansas-city-chief...   \n",
       "9  9535932268850  womens-nike-number-1-bride-green-green-bay-pac...   \n",
       "\n",
       "                 Metafield: custom.product_url [url]  \\\n",
       "0  https://fanatics.93n6tx.net/c/5567077/669352/9...   \n",
       "1  https://fanatics.93n6tx.net/c/5567077/669352/9...   \n",
       "2  https://fanatics.93n6tx.net/c/5567077/669352/9...   \n",
       "3  https://fanatics.93n6tx.net/c/5567077/669352/9...   \n",
       "4  https://fanatics.93n6tx.net/c/5567077/669352/9...   \n",
       "5  https://fanatics.93n6tx.net/c/5567077/669352/9...   \n",
       "6  https://fanatics.93n6tx.net/c/5567077/669352/9...   \n",
       "7  https://fanatics.93n6tx.net/c/5567077/669352/9...   \n",
       "8  https://fanatics.93n6tx.net/c/5567077/669352/9...   \n",
       "9  https://fanatics.93n6tx.net/c/5567077/669352/9...   \n",
       "\n",
       "                                         Product URL  \\\n",
       "0  https://fanatics.93n6tx.net/c/5567077/669352/9...   \n",
       "1  https://fanatics.93n6tx.net/c/5567077/669352/9...   \n",
       "2  https://fanatics.93n6tx.net/c/5567077/669352/9...   \n",
       "3  https://fanatics.93n6tx.net/c/5567077/669352/9...   \n",
       "4  https://fanatics.93n6tx.net/c/5567077/669352/9...   \n",
       "5  https://fanatics.93n6tx.net/c/5567077/669352/9...   \n",
       "6  https://fanatics.93n6tx.net/c/5567077/669352/9...   \n",
       "7  https://fanatics.93n6tx.net/c/5567077/669352/9...   \n",
       "8  https://fanatics.93n6tx.net/c/5567077/669352/9...   \n",
       "9  https://fanatics.93n6tx.net/c/5567077/669352/9...   \n",
       "\n",
       "                                     Size  \n",
       "0                        L;XL;S;2XL;3XL;M  \n",
       "1                           2XL;3XL;S;M;L  \n",
       "2                             XS;M;S;L;XL  \n",
       "3                        XL;3XL;2XL;S;L;M  \n",
       "4  3XB;2XB;3XT;4XB;2XT;LT;1XB;5XB;4XT;XLT  \n",
       "5                                 No Size  \n",
       "6                        S;M;3XL;XL;2XL;L  \n",
       "7                Yth M;Yth XL;Yth L;Yth S  \n",
       "8                2XL;5XL;3XL;L;S;XL;4XL;M  \n",
       "9                                     M;S  "
      ]
     },
     "execution_count": 13,
     "metadata": {},
     "output_type": "execute_result"
    }
   ],
   "source": [
    "merged.head(10)"
   ]
  },
  {
   "cell_type": "code",
   "execution_count": 14,
   "metadata": {},
   "outputs": [
    {
     "data": {
      "text/plain": [
       "(28231, 5)"
      ]
     },
     "execution_count": 14,
     "metadata": {},
     "output_type": "execute_result"
    }
   ],
   "source": [
    "merged.shape"
   ]
  },
  {
   "cell_type": "code",
   "execution_count": 15,
   "metadata": {},
   "outputs": [
    {
     "data": {
      "text/plain": [
       "ID                                     0\n",
       "Handle                                 0\n",
       "Metafield: custom.product_url [url]    0\n",
       "Product URL                            0\n",
       "Size                                   0\n",
       "dtype: int64"
      ]
     },
     "execution_count": 15,
     "metadata": {},
     "output_type": "execute_result"
    }
   ],
   "source": [
    "# count null values for each columns\n",
    "merged.isnull().sum()"
   ]
  },
  {
   "cell_type": "code",
   "execution_count": 16,
   "metadata": {},
   "outputs": [],
   "source": [
    "# keep only column ID and Size\n",
    "merged = merged[['ID', 'Size']]"
   ]
  },
  {
   "cell_type": "code",
   "execution_count": 17,
   "metadata": {},
   "outputs": [],
   "source": [
    "# rename column Size to Metafield: custom.sizes [single_line_text_field]\n",
    "merged = merged.rename(columns={'Size': 'Metafield: custom.sizes [single_line_text_field]'})\n"
   ]
  },
  {
   "cell_type": "code",
   "execution_count": 18,
   "metadata": {},
   "outputs": [
    {
     "data": {
      "text/html": [
       "<div>\n",
       "<style scoped>\n",
       "    .dataframe tbody tr th:only-of-type {\n",
       "        vertical-align: middle;\n",
       "    }\n",
       "\n",
       "    .dataframe tbody tr th {\n",
       "        vertical-align: top;\n",
       "    }\n",
       "\n",
       "    .dataframe thead th {\n",
       "        text-align: right;\n",
       "    }\n",
       "</style>\n",
       "<table border=\"1\" class=\"dataframe\">\n",
       "  <thead>\n",
       "    <tr style=\"text-align: right;\">\n",
       "      <th></th>\n",
       "      <th>ID</th>\n",
       "      <th>Metafield: custom.sizes [single_line_text_field]</th>\n",
       "    </tr>\n",
       "  </thead>\n",
       "  <tbody>\n",
       "    <tr>\n",
       "      <th>0</th>\n",
       "      <td>9535923814706</td>\n",
       "      <td>L;XL;S;2XL;3XL;M</td>\n",
       "    </tr>\n",
       "    <tr>\n",
       "      <th>1</th>\n",
       "      <td>9535924470066</td>\n",
       "      <td>2XL;3XL;S;M;L</td>\n",
       "    </tr>\n",
       "    <tr>\n",
       "      <th>2</th>\n",
       "      <td>9535925780786</td>\n",
       "      <td>XS;M;S;L;XL</td>\n",
       "    </tr>\n",
       "    <tr>\n",
       "      <th>3</th>\n",
       "      <td>9535925027122</td>\n",
       "      <td>XL;3XL;2XL;S;L;M</td>\n",
       "    </tr>\n",
       "    <tr>\n",
       "      <th>4</th>\n",
       "      <td>9535926960434</td>\n",
       "      <td>3XB;2XB;3XT;4XB;2XT;LT;1XB;5XB;4XT;XLT</td>\n",
       "    </tr>\n",
       "  </tbody>\n",
       "</table>\n",
       "</div>"
      ],
      "text/plain": [
       "              ID Metafield: custom.sizes [single_line_text_field]\n",
       "0  9535923814706                                 L;XL;S;2XL;3XL;M\n",
       "1  9535924470066                                    2XL;3XL;S;M;L\n",
       "2  9535925780786                                      XS;M;S;L;XL\n",
       "3  9535925027122                                 XL;3XL;2XL;S;L;M\n",
       "4  9535926960434           3XB;2XB;3XT;4XB;2XT;LT;1XB;5XB;4XT;XLT"
      ]
     },
     "execution_count": 18,
     "metadata": {},
     "output_type": "execute_result"
    }
   ],
   "source": [
    "merged.head()"
   ]
  },
  {
   "cell_type": "code",
   "execution_count": 19,
   "metadata": {},
   "outputs": [],
   "source": [
    "# save to csv\n",
    "merged.to_csv('Products_SizesAll.csv', index=False)"
   ]
  }
 ],
 "metadata": {
  "kernelspec": {
   "display_name": "myenv",
   "language": "python",
   "name": "python3"
  },
  "language_info": {
   "codemirror_mode": {
    "name": "ipython",
    "version": 3
   },
   "file_extension": ".py",
   "mimetype": "text/x-python",
   "name": "python",
   "nbconvert_exporter": "python",
   "pygments_lexer": "ipython3",
   "version": "3.12.5"
  }
 },
 "nbformat": 4,
 "nbformat_minor": 2
}
